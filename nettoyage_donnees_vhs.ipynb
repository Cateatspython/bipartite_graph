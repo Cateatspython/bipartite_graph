{
 "cells": [
  {
   "cell_type": "markdown",
   "metadata": {},
   "source": [
    "# Nettoyage des données de l'export csv de la table region_pairs de la base de données VHS"
   ]
  },
  {
   "cell_type": "markdown",
   "metadata": {},
   "source": [
    "Importer la bibliothèque Pandas pour manipuler les données et re pour utiliser des expressions régulières."
   ]
  },
  {
   "cell_type": "code",
   "execution_count": 1,
   "metadata": {},
   "outputs": [],
   "source": [
    "import pandas as pd \n",
    "import re"
   ]
  },
  {
   "cell_type": "markdown",
   "metadata": {},
   "source": [
    "Charger le fichier csv de votre choix avec la fonction Pandas pd.read_csv(). Ici, nous prenons comme exemple le fichier csv de la table region_pairs du witness 75."
   ]
  },
  {
   "cell_type": "code",
   "execution_count": 8,
   "metadata": {},
   "outputs": [
    {
     "ename": "FileNotFoundError",
     "evalue": "[Errno 2] No such file or directory: 'region_pair_75.csv'",
     "output_type": "error",
     "traceback": [
      "\u001b[0;31m---------------------------------------------------------------------------\u001b[0m",
      "\u001b[0;31mFileNotFoundError\u001b[0m                         Traceback (most recent call last)",
      "\u001b[0;32m/tmp/ipykernel_55836/2568081248.py\u001b[0m in \u001b[0;36m<module>\u001b[0;34m\u001b[0m\n\u001b[0;32m----> 1\u001b[0;31m \u001b[0mpd\u001b[0m\u001b[0;34m.\u001b[0m\u001b[0mread_csv\u001b[0m\u001b[0;34m(\u001b[0m\u001b[0;34m'region_pair_75.csv'\u001b[0m\u001b[0;34m,\u001b[0m \u001b[0mindex_col\u001b[0m\u001b[0;34m=\u001b[0m\u001b[0;32mFalse\u001b[0m\u001b[0;34m)\u001b[0m\u001b[0;34m\u001b[0m\u001b[0;34m\u001b[0m\u001b[0m\n\u001b[0m",
      "\u001b[0;32m~/.local/lib/python3.10/site-packages/pandas/io/parsers/readers.py\u001b[0m in \u001b[0;36mread_csv\u001b[0;34m(filepath_or_buffer, sep, delimiter, header, names, index_col, usecols, dtype, engine, converters, true_values, false_values, skipinitialspace, skiprows, skipfooter, nrows, na_values, keep_default_na, na_filter, verbose, skip_blank_lines, parse_dates, infer_datetime_format, keep_date_col, date_parser, date_format, dayfirst, cache_dates, iterator, chunksize, compression, thousands, decimal, lineterminator, quotechar, quoting, doublequote, escapechar, comment, encoding, encoding_errors, dialect, on_bad_lines, delim_whitespace, low_memory, memory_map, float_precision, storage_options, dtype_backend)\u001b[0m\n\u001b[1;32m   1024\u001b[0m     \u001b[0mkwds\u001b[0m\u001b[0;34m.\u001b[0m\u001b[0mupdate\u001b[0m\u001b[0;34m(\u001b[0m\u001b[0mkwds_defaults\u001b[0m\u001b[0;34m)\u001b[0m\u001b[0;34m\u001b[0m\u001b[0;34m\u001b[0m\u001b[0m\n\u001b[1;32m   1025\u001b[0m \u001b[0;34m\u001b[0m\u001b[0m\n\u001b[0;32m-> 1026\u001b[0;31m     \u001b[0;32mreturn\u001b[0m \u001b[0m_read\u001b[0m\u001b[0;34m(\u001b[0m\u001b[0mfilepath_or_buffer\u001b[0m\u001b[0;34m,\u001b[0m \u001b[0mkwds\u001b[0m\u001b[0;34m)\u001b[0m\u001b[0;34m\u001b[0m\u001b[0;34m\u001b[0m\u001b[0m\n\u001b[0m\u001b[1;32m   1027\u001b[0m \u001b[0;34m\u001b[0m\u001b[0m\n\u001b[1;32m   1028\u001b[0m \u001b[0;34m\u001b[0m\u001b[0m\n",
      "\u001b[0;32m~/.local/lib/python3.10/site-packages/pandas/io/parsers/readers.py\u001b[0m in \u001b[0;36m_read\u001b[0;34m(filepath_or_buffer, kwds)\u001b[0m\n\u001b[1;32m    618\u001b[0m \u001b[0;34m\u001b[0m\u001b[0m\n\u001b[1;32m    619\u001b[0m     \u001b[0;31m# Create the parser.\u001b[0m\u001b[0;34m\u001b[0m\u001b[0;34m\u001b[0m\u001b[0m\n\u001b[0;32m--> 620\u001b[0;31m     \u001b[0mparser\u001b[0m \u001b[0;34m=\u001b[0m \u001b[0mTextFileReader\u001b[0m\u001b[0;34m(\u001b[0m\u001b[0mfilepath_or_buffer\u001b[0m\u001b[0;34m,\u001b[0m \u001b[0;34m**\u001b[0m\u001b[0mkwds\u001b[0m\u001b[0;34m)\u001b[0m\u001b[0;34m\u001b[0m\u001b[0;34m\u001b[0m\u001b[0m\n\u001b[0m\u001b[1;32m    621\u001b[0m \u001b[0;34m\u001b[0m\u001b[0m\n\u001b[1;32m    622\u001b[0m     \u001b[0;32mif\u001b[0m \u001b[0mchunksize\u001b[0m \u001b[0;32mor\u001b[0m \u001b[0miterator\u001b[0m\u001b[0;34m:\u001b[0m\u001b[0;34m\u001b[0m\u001b[0;34m\u001b[0m\u001b[0m\n",
      "\u001b[0;32m~/.local/lib/python3.10/site-packages/pandas/io/parsers/readers.py\u001b[0m in \u001b[0;36m__init__\u001b[0;34m(self, f, engine, **kwds)\u001b[0m\n\u001b[1;32m   1618\u001b[0m \u001b[0;34m\u001b[0m\u001b[0m\n\u001b[1;32m   1619\u001b[0m         \u001b[0mself\u001b[0m\u001b[0;34m.\u001b[0m\u001b[0mhandles\u001b[0m\u001b[0;34m:\u001b[0m \u001b[0mIOHandles\u001b[0m \u001b[0;34m|\u001b[0m \u001b[0;32mNone\u001b[0m \u001b[0;34m=\u001b[0m \u001b[0;32mNone\u001b[0m\u001b[0;34m\u001b[0m\u001b[0;34m\u001b[0m\u001b[0m\n\u001b[0;32m-> 1620\u001b[0;31m         \u001b[0mself\u001b[0m\u001b[0;34m.\u001b[0m\u001b[0m_engine\u001b[0m \u001b[0;34m=\u001b[0m \u001b[0mself\u001b[0m\u001b[0;34m.\u001b[0m\u001b[0m_make_engine\u001b[0m\u001b[0;34m(\u001b[0m\u001b[0mf\u001b[0m\u001b[0;34m,\u001b[0m \u001b[0mself\u001b[0m\u001b[0;34m.\u001b[0m\u001b[0mengine\u001b[0m\u001b[0;34m)\u001b[0m\u001b[0;34m\u001b[0m\u001b[0;34m\u001b[0m\u001b[0m\n\u001b[0m\u001b[1;32m   1621\u001b[0m \u001b[0;34m\u001b[0m\u001b[0m\n\u001b[1;32m   1622\u001b[0m     \u001b[0;32mdef\u001b[0m \u001b[0mclose\u001b[0m\u001b[0;34m(\u001b[0m\u001b[0mself\u001b[0m\u001b[0;34m)\u001b[0m \u001b[0;34m->\u001b[0m \u001b[0;32mNone\u001b[0m\u001b[0;34m:\u001b[0m\u001b[0;34m\u001b[0m\u001b[0;34m\u001b[0m\u001b[0m\n",
      "\u001b[0;32m~/.local/lib/python3.10/site-packages/pandas/io/parsers/readers.py\u001b[0m in \u001b[0;36m_make_engine\u001b[0;34m(self, f, engine)\u001b[0m\n\u001b[1;32m   1878\u001b[0m                 \u001b[0;32mif\u001b[0m \u001b[0;34m\"b\"\u001b[0m \u001b[0;32mnot\u001b[0m \u001b[0;32min\u001b[0m \u001b[0mmode\u001b[0m\u001b[0;34m:\u001b[0m\u001b[0;34m\u001b[0m\u001b[0;34m\u001b[0m\u001b[0m\n\u001b[1;32m   1879\u001b[0m                     \u001b[0mmode\u001b[0m \u001b[0;34m+=\u001b[0m \u001b[0;34m\"b\"\u001b[0m\u001b[0;34m\u001b[0m\u001b[0;34m\u001b[0m\u001b[0m\n\u001b[0;32m-> 1880\u001b[0;31m             self.handles = get_handle(\n\u001b[0m\u001b[1;32m   1881\u001b[0m                 \u001b[0mf\u001b[0m\u001b[0;34m,\u001b[0m\u001b[0;34m\u001b[0m\u001b[0;34m\u001b[0m\u001b[0m\n\u001b[1;32m   1882\u001b[0m                 \u001b[0mmode\u001b[0m\u001b[0;34m,\u001b[0m\u001b[0;34m\u001b[0m\u001b[0;34m\u001b[0m\u001b[0m\n",
      "\u001b[0;32m~/.local/lib/python3.10/site-packages/pandas/io/common.py\u001b[0m in \u001b[0;36mget_handle\u001b[0;34m(path_or_buf, mode, encoding, compression, memory_map, is_text, errors, storage_options)\u001b[0m\n\u001b[1;32m    871\u001b[0m         \u001b[0;32mif\u001b[0m \u001b[0mioargs\u001b[0m\u001b[0;34m.\u001b[0m\u001b[0mencoding\u001b[0m \u001b[0;32mand\u001b[0m \u001b[0;34m\"b\"\u001b[0m \u001b[0;32mnot\u001b[0m \u001b[0;32min\u001b[0m \u001b[0mioargs\u001b[0m\u001b[0;34m.\u001b[0m\u001b[0mmode\u001b[0m\u001b[0;34m:\u001b[0m\u001b[0;34m\u001b[0m\u001b[0;34m\u001b[0m\u001b[0m\n\u001b[1;32m    872\u001b[0m             \u001b[0;31m# Encoding\u001b[0m\u001b[0;34m\u001b[0m\u001b[0;34m\u001b[0m\u001b[0m\n\u001b[0;32m--> 873\u001b[0;31m             handle = open(\n\u001b[0m\u001b[1;32m    874\u001b[0m                 \u001b[0mhandle\u001b[0m\u001b[0;34m,\u001b[0m\u001b[0;34m\u001b[0m\u001b[0;34m\u001b[0m\u001b[0m\n\u001b[1;32m    875\u001b[0m                 \u001b[0mioargs\u001b[0m\u001b[0;34m.\u001b[0m\u001b[0mmode\u001b[0m\u001b[0;34m,\u001b[0m\u001b[0;34m\u001b[0m\u001b[0;34m\u001b[0m\u001b[0m\n",
      "\u001b[0;31mFileNotFoundError\u001b[0m: [Errno 2] No such file or directory: 'region_pair_75.csv'"
     ]
    }
   ],
   "source": [
    "pd.read_csv('region_pair_75.csv', index_col=False)"
   ]
  },
  {
   "cell_type": "markdown",
   "metadata": {},
   "source": [
    "Intégrer le fichier csv region_pair_75.csv dans le DataFrame witness. "
   ]
  },
  {
   "cell_type": "code",
   "execution_count": null,
   "metadata": {},
   "outputs": [],
   "source": [
    "witness = pd.read_csv('region_pair_75.csv', index_col=False)"
   ]
  },
  {
   "cell_type": "markdown",
   "metadata": {},
   "source": [
    "Créer une variable avec les witnesses dont nous voulons garder les region pairs (ici nous allons comparer les regions du witness 75 qui ont des liens avec les regions du witness 116)"
   ]
  },
  {
   "cell_type": "code",
   "execution_count": null,
   "metadata": {},
   "outputs": [],
   "source": [
    "values = [\"wit116\", \"wit75\"]"
   ]
  },
  {
   "cell_type": "markdown",
   "metadata": {},
   "source": [
    "Création d'un pattern pour détecter si la chaîne de caractère commence par un ou plusieurs parmis ls values."
   ]
  },
  {
   "cell_type": "code",
   "execution_count": null,
   "metadata": {},
   "outputs": [],
   "source": [
    "pattern = r\"^(\" + \"|\".join([re.escape(v) + r\"_\" for v in values]) + \")\""
   ]
  },
  {
   "cell_type": "markdown",
   "metadata": {},
   "source": [
    "Ajouter deux variables img1 et img2 pour vérifier dans chaque ligne du DataFrame si la valeur des colonnes img_1 et img_2 commence par l'un des préfixes définis dans la variable pattern."
   ]
  },
  {
   "cell_type": "code",
   "execution_count": null,
   "metadata": {},
   "outputs": [
    {
     "name": "stderr",
     "output_type": "stream",
     "text": [
      "/tmp/ipykernel_38400/2843623909.py:1: UserWarning: This pattern is interpreted as a regular expression, and has match groups. To actually get the groups, use str.extract.\n",
      "  img1 = witness[\"img_1\"].str.contains(pattern, na=False)\n",
      "/tmp/ipykernel_38400/2843623909.py:2: UserWarning: This pattern is interpreted as a regular expression, and has match groups. To actually get the groups, use str.extract.\n",
      "  img2 = witness[\"img_2\"].str.contains(pattern, na=False)\n"
     ]
    }
   ],
   "source": [
    "img1 = witness[\"img_1\"].str.contains(pattern, na=False)\n",
    "img2 = witness[\"img_2\"].str.contains(pattern, na=False)"
   ]
  },
  {
   "cell_type": "markdown",
   "metadata": {},
   "source": [
    "Vérifier pour chaque ligne si la colonne img_1 ET (et uniquement si les deux conditions sont vraies) la colonne img_2 contiennent le pattern."
   ]
  },
  {
   "cell_type": "code",
   "execution_count": null,
   "metadata": {},
   "outputs": [],
   "source": [
    "chosen_witness = witness[img1 & img2]"
   ]
  },
  {
   "cell_type": "markdown",
   "metadata": {},
   "source": [
    "Pour supprimer les colonnes du document csv dont nous n'avons pas besoin, il faut d'abord créer une liste contenant les noms des colonnes à supprimer."
   ]
  },
  {
   "cell_type": "code",
   "execution_count": null,
   "metadata": {},
   "outputs": [],
   "source": [
    "colonne_a_supprimer = [\"regions_id_1\", \"regions_id_2\", \"created_at\", \"updated_at\", \"category\", \"category_x\", \"is_manual\"]"
   ]
  },
  {
   "cell_type": "markdown",
   "metadata": {},
   "source": [
    "Supprimer les colonnes de la liste columns_suppression grâce à la méthode .drop()"
   ]
  },
  {
   "cell_type": "code",
   "execution_count": null,
   "metadata": {},
   "outputs": [],
   "source": [
    "new_witness = chosen_witness.drop(columns=colonne_a_supprimer)"
   ]
  },
  {
   "cell_type": "markdown",
   "metadata": {},
   "source": [
    "Voici l'aperçu : "
   ]
  },
  {
   "cell_type": "code",
   "execution_count": null,
   "metadata": {},
   "outputs": [
    {
     "data": {
      "text/html": [
       "<div>\n",
       "<style scoped>\n",
       "    .dataframe tbody tr th:only-of-type {\n",
       "        vertical-align: middle;\n",
       "    }\n",
       "\n",
       "    .dataframe tbody tr th {\n",
       "        vertical-align: top;\n",
       "    }\n",
       "\n",
       "    .dataframe thead th {\n",
       "        text-align: right;\n",
       "    }\n",
       "</style>\n",
       "<table border=\"1\" class=\"dataframe\">\n",
       "  <thead>\n",
       "    <tr style=\"text-align: right;\">\n",
       "      <th></th>\n",
       "      <th>id</th>\n",
       "      <th>img_1</th>\n",
       "      <th>img_2</th>\n",
       "      <th>score</th>\n",
       "      <th>similarity_type</th>\n",
       "    </tr>\n",
       "  </thead>\n",
       "  <tbody>\n",
       "    <tr>\n",
       "      <th>1</th>\n",
       "      <td>30040883</td>\n",
       "      <td>wit75_pdf75_0106_982,1029,148,350.jpg</td>\n",
       "      <td>wit75_pdf75_0459_917,1166,188,376.jpg</td>\n",
       "      <td>NaN</td>\n",
       "      <td>3</td>\n",
       "    </tr>\n",
       "    <tr>\n",
       "      <th>2</th>\n",
       "      <td>30946561</td>\n",
       "      <td>wit75_pdf75_0106_982,1029,148,350.jpg</td>\n",
       "      <td>wit116_man116_0584_226,1573,349,584.jpg</td>\n",
       "      <td>NaN</td>\n",
       "      <td>3</td>\n",
       "    </tr>\n",
       "    <tr>\n",
       "      <th>4</th>\n",
       "      <td>30041423</td>\n",
       "      <td>wit75_pdf75_0892_101,824,231,181.jpg</td>\n",
       "      <td>wit75_pdf75_0892_1824,378,218,218.jpg</td>\n",
       "      <td>NaN</td>\n",
       "      <td>3</td>\n",
       "    </tr>\n",
       "    <tr>\n",
       "      <th>6</th>\n",
       "      <td>30040299</td>\n",
       "      <td>wit75_pdf75_0204_593,859,269,258.jpg</td>\n",
       "      <td>wit75_pdf75_0204_852,862,240,243.jpg</td>\n",
       "      <td>NaN</td>\n",
       "      <td>3</td>\n",
       "    </tr>\n",
       "    <tr>\n",
       "      <th>8</th>\n",
       "      <td>30040310</td>\n",
       "      <td>wit75_pdf75_0204_622,662,426,223.jpg</td>\n",
       "      <td>wit75_pdf75_0204_627,664,418,223.jpg</td>\n",
       "      <td>NaN</td>\n",
       "      <td>3</td>\n",
       "    </tr>\n",
       "    <tr>\n",
       "      <th>...</th>\n",
       "      <td>...</td>\n",
       "      <td>...</td>\n",
       "      <td>...</td>\n",
       "      <td>...</td>\n",
       "      <td>...</td>\n",
       "    </tr>\n",
       "    <tr>\n",
       "      <th>21263</th>\n",
       "      <td>30391723</td>\n",
       "      <td>wit75_pdf75_0106_247,1606,238,239.jpg</td>\n",
       "      <td>wit116_man116_0590_1465,1013,353,420.jpg</td>\n",
       "      <td>NaN</td>\n",
       "      <td>2</td>\n",
       "    </tr>\n",
       "    <tr>\n",
       "      <th>21264</th>\n",
       "      <td>30391724</td>\n",
       "      <td>wit75_pdf75_0106_48,1596,224,252.jpg</td>\n",
       "      <td>wit116_man116_0590_168,1763,450,473.jpg</td>\n",
       "      <td>NaN</td>\n",
       "      <td>2</td>\n",
       "    </tr>\n",
       "    <tr>\n",
       "      <th>21265</th>\n",
       "      <td>30391725</td>\n",
       "      <td>wit75_pdf75_0106_1043,2081,204,232.jpg</td>\n",
       "      <td>wit116_man116_0590_930,622,331,634.jpg</td>\n",
       "      <td>NaN</td>\n",
       "      <td>2</td>\n",
       "    </tr>\n",
       "    <tr>\n",
       "      <th>21266</th>\n",
       "      <td>30391726</td>\n",
       "      <td>wit75_pdf75_0459_705,1487,253,267.jpg</td>\n",
       "      <td>wit116_man116_0586_884,131,465,404.jpg</td>\n",
       "      <td>NaN</td>\n",
       "      <td>2</td>\n",
       "    </tr>\n",
       "    <tr>\n",
       "      <th>21267</th>\n",
       "      <td>30391727</td>\n",
       "      <td>wit75_pdf75_0106_38,1153,284,65.jpg</td>\n",
       "      <td>wit116_man116_0568_153,134,510,164.jpg</td>\n",
       "      <td>NaN</td>\n",
       "      <td>2</td>\n",
       "    </tr>\n",
       "  </tbody>\n",
       "</table>\n",
       "<p>7158 rows × 5 columns</p>\n",
       "</div>"
      ],
      "text/plain": [
       "             id                                   img_1  \\\n",
       "1      30040883   wit75_pdf75_0106_982,1029,148,350.jpg   \n",
       "2      30946561   wit75_pdf75_0106_982,1029,148,350.jpg   \n",
       "4      30041423    wit75_pdf75_0892_101,824,231,181.jpg   \n",
       "6      30040299    wit75_pdf75_0204_593,859,269,258.jpg   \n",
       "8      30040310    wit75_pdf75_0204_622,662,426,223.jpg   \n",
       "...         ...                                     ...   \n",
       "21263  30391723   wit75_pdf75_0106_247,1606,238,239.jpg   \n",
       "21264  30391724    wit75_pdf75_0106_48,1596,224,252.jpg   \n",
       "21265  30391725  wit75_pdf75_0106_1043,2081,204,232.jpg   \n",
       "21266  30391726   wit75_pdf75_0459_705,1487,253,267.jpg   \n",
       "21267  30391727     wit75_pdf75_0106_38,1153,284,65.jpg   \n",
       "\n",
       "                                          img_2  score  similarity_type  \n",
       "1         wit75_pdf75_0459_917,1166,188,376.jpg    NaN                3  \n",
       "2       wit116_man116_0584_226,1573,349,584.jpg    NaN                3  \n",
       "4         wit75_pdf75_0892_1824,378,218,218.jpg    NaN                3  \n",
       "6          wit75_pdf75_0204_852,862,240,243.jpg    NaN                3  \n",
       "8          wit75_pdf75_0204_627,664,418,223.jpg    NaN                3  \n",
       "...                                         ...    ...              ...  \n",
       "21263  wit116_man116_0590_1465,1013,353,420.jpg    NaN                2  \n",
       "21264   wit116_man116_0590_168,1763,450,473.jpg    NaN                2  \n",
       "21265    wit116_man116_0590_930,622,331,634.jpg    NaN                2  \n",
       "21266    wit116_man116_0586_884,131,465,404.jpg    NaN                2  \n",
       "21267    wit116_man116_0568_153,134,510,164.jpg    NaN                2  \n",
       "\n",
       "[7158 rows x 5 columns]"
      ]
     },
     "execution_count": 12,
     "metadata": {},
     "output_type": "execute_result"
    }
   ],
   "source": [
    "new_witness"
   ]
  },
  {
   "cell_type": "markdown",
   "metadata": {},
   "source": [
    "Supprimer les types de similarités qui sont peu pertinentes à conserver (semantic match = 3 et no match = 4)"
   ]
  },
  {
   "cell_type": "code",
   "execution_count": null,
   "metadata": {},
   "outputs": [
    {
     "data": {
      "text/html": [
       "<div>\n",
       "<style scoped>\n",
       "    .dataframe tbody tr th:only-of-type {\n",
       "        vertical-align: middle;\n",
       "    }\n",
       "\n",
       "    .dataframe tbody tr th {\n",
       "        vertical-align: top;\n",
       "    }\n",
       "\n",
       "    .dataframe thead th {\n",
       "        text-align: right;\n",
       "    }\n",
       "</style>\n",
       "<table border=\"1\" class=\"dataframe\">\n",
       "  <thead>\n",
       "    <tr style=\"text-align: right;\">\n",
       "      <th></th>\n",
       "      <th>id</th>\n",
       "      <th>img_1</th>\n",
       "      <th>img_2</th>\n",
       "      <th>score</th>\n",
       "      <th>similarity_type</th>\n",
       "    </tr>\n",
       "  </thead>\n",
       "  <tbody>\n",
       "    <tr>\n",
       "      <th>13</th>\n",
       "      <td>30107837</td>\n",
       "      <td>wit75_pdf75_0892_1836,176,224,197.jpg</td>\n",
       "      <td>wit116_man116_0240_1030,903,300,229.jpg</td>\n",
       "      <td>72.87406</td>\n",
       "      <td>1</td>\n",
       "    </tr>\n",
       "    <tr>\n",
       "      <th>31</th>\n",
       "      <td>30039927</td>\n",
       "      <td>wit75_pdf75_0204_1099,845,404,398.jpg</td>\n",
       "      <td>wit75_pdf75_0892_895,1394,188,198.jpg</td>\n",
       "      <td>46.64540</td>\n",
       "      <td>1</td>\n",
       "    </tr>\n",
       "    <tr>\n",
       "      <th>35</th>\n",
       "      <td>30039749</td>\n",
       "      <td>wit75_pdf75_0169_136,2195,186,193.jpg</td>\n",
       "      <td>wit75_pdf75_0892_133,429,183,205.jpg</td>\n",
       "      <td>39.98950</td>\n",
       "      <td>1</td>\n",
       "    </tr>\n",
       "    <tr>\n",
       "      <th>180</th>\n",
       "      <td>30104264</td>\n",
       "      <td>wit75_pdf75_0204_1982,1031,230,208.jpg</td>\n",
       "      <td>wit116_man116_0598_732,909,571,700.jpg</td>\n",
       "      <td>44.25464</td>\n",
       "      <td>1</td>\n",
       "    </tr>\n",
       "    <tr>\n",
       "      <th>181</th>\n",
       "      <td>30104641</td>\n",
       "      <td>wit75_pdf75_0204_593,859,269,258.jpg</td>\n",
       "      <td>wit116_man116_0252_674,1153,349,407.jpg</td>\n",
       "      <td>62.16972</td>\n",
       "      <td>1</td>\n",
       "    </tr>\n",
       "    <tr>\n",
       "      <th>...</th>\n",
       "      <td>...</td>\n",
       "      <td>...</td>\n",
       "      <td>...</td>\n",
       "      <td>...</td>\n",
       "      <td>...</td>\n",
       "    </tr>\n",
       "    <tr>\n",
       "      <th>21263</th>\n",
       "      <td>30391723</td>\n",
       "      <td>wit75_pdf75_0106_247,1606,238,239.jpg</td>\n",
       "      <td>wit116_man116_0590_1465,1013,353,420.jpg</td>\n",
       "      <td>NaN</td>\n",
       "      <td>2</td>\n",
       "    </tr>\n",
       "    <tr>\n",
       "      <th>21264</th>\n",
       "      <td>30391724</td>\n",
       "      <td>wit75_pdf75_0106_48,1596,224,252.jpg</td>\n",
       "      <td>wit116_man116_0590_168,1763,450,473.jpg</td>\n",
       "      <td>NaN</td>\n",
       "      <td>2</td>\n",
       "    </tr>\n",
       "    <tr>\n",
       "      <th>21265</th>\n",
       "      <td>30391725</td>\n",
       "      <td>wit75_pdf75_0106_1043,2081,204,232.jpg</td>\n",
       "      <td>wit116_man116_0590_930,622,331,634.jpg</td>\n",
       "      <td>NaN</td>\n",
       "      <td>2</td>\n",
       "    </tr>\n",
       "    <tr>\n",
       "      <th>21266</th>\n",
       "      <td>30391726</td>\n",
       "      <td>wit75_pdf75_0459_705,1487,253,267.jpg</td>\n",
       "      <td>wit116_man116_0586_884,131,465,404.jpg</td>\n",
       "      <td>NaN</td>\n",
       "      <td>2</td>\n",
       "    </tr>\n",
       "    <tr>\n",
       "      <th>21267</th>\n",
       "      <td>30391727</td>\n",
       "      <td>wit75_pdf75_0106_38,1153,284,65.jpg</td>\n",
       "      <td>wit116_man116_0568_153,134,510,164.jpg</td>\n",
       "      <td>NaN</td>\n",
       "      <td>2</td>\n",
       "    </tr>\n",
       "  </tbody>\n",
       "</table>\n",
       "<p>7133 rows × 5 columns</p>\n",
       "</div>"
      ],
      "text/plain": [
       "             id                                   img_1  \\\n",
       "13     30107837   wit75_pdf75_0892_1836,176,224,197.jpg   \n",
       "31     30039927   wit75_pdf75_0204_1099,845,404,398.jpg   \n",
       "35     30039749   wit75_pdf75_0169_136,2195,186,193.jpg   \n",
       "180    30104264  wit75_pdf75_0204_1982,1031,230,208.jpg   \n",
       "181    30104641    wit75_pdf75_0204_593,859,269,258.jpg   \n",
       "...         ...                                     ...   \n",
       "21263  30391723   wit75_pdf75_0106_247,1606,238,239.jpg   \n",
       "21264  30391724    wit75_pdf75_0106_48,1596,224,252.jpg   \n",
       "21265  30391725  wit75_pdf75_0106_1043,2081,204,232.jpg   \n",
       "21266  30391726   wit75_pdf75_0459_705,1487,253,267.jpg   \n",
       "21267  30391727     wit75_pdf75_0106_38,1153,284,65.jpg   \n",
       "\n",
       "                                          img_2     score  similarity_type  \n",
       "13      wit116_man116_0240_1030,903,300,229.jpg  72.87406                1  \n",
       "31        wit75_pdf75_0892_895,1394,188,198.jpg  46.64540                1  \n",
       "35         wit75_pdf75_0892_133,429,183,205.jpg  39.98950                1  \n",
       "180      wit116_man116_0598_732,909,571,700.jpg  44.25464                1  \n",
       "181     wit116_man116_0252_674,1153,349,407.jpg  62.16972                1  \n",
       "...                                         ...       ...              ...  \n",
       "21263  wit116_man116_0590_1465,1013,353,420.jpg       NaN                2  \n",
       "21264   wit116_man116_0590_168,1763,450,473.jpg       NaN                2  \n",
       "21265    wit116_man116_0590_930,622,331,634.jpg       NaN                2  \n",
       "21266    wit116_man116_0586_884,131,465,404.jpg       NaN                2  \n",
       "21267    wit116_man116_0568_153,134,510,164.jpg       NaN                2  \n",
       "\n",
       "[7133 rows x 5 columns]"
      ]
     },
     "execution_count": 15,
     "metadata": {},
     "output_type": "execute_result"
    }
   ],
   "source": [
    "similarity_type_a_supprimer = [4, 3]\n",
    "\n",
    "similarity_filtrees = new_witness[~new_witness['similarity_type'].isin(similarity_type_a_supprimer)]\n",
    "\n",
    "similarity_filtrees"
   ]
  },
  {
   "cell_type": "markdown",
   "metadata": {},
   "source": [
    "Stocker le résultat dans un nouveau fichier csv si on veut conserver les liens internes"
   ]
  },
  {
   "cell_type": "code",
   "execution_count": null,
   "metadata": {},
   "outputs": [],
   "source": [
    "similarity_filtrees.to_csv('data_wit75.csv', index=False)"
   ]
  },
  {
   "cell_type": "markdown",
   "metadata": {},
   "source": [
    "Pour supprimer les liens internes commencer par charger le fichier csv que l'on vient de créer"
   ]
  },
  {
   "cell_type": "code",
   "execution_count": null,
   "metadata": {},
   "outputs": [],
   "source": [
    "similarity_filtrees = pd.read_csv('data_wit75.csv')"
   ]
  },
  {
   "cell_type": "markdown",
   "metadata": {},
   "source": [
    "Créer une nouvelle colonne pour savoir si oui ou non la region pair est un lien interne."
   ]
  },
  {
   "cell_type": "code",
   "execution_count": null,
   "metadata": {},
   "outputs": [],
   "source": [
    "def get_prefix(val):\n",
    "    if isinstance(val, str):\n",
    "        return \"_\".join(val.split(\"_\")[:2])\n",
    "    return \"\"\n",
    "\n",
    "# Extraire les préfixes\n",
    "similarity_filtrees[\"prefix_1\"] = similarity_filtrees[\"img_1\"].apply(get_prefix)\n",
    "similarity_filtrees[\"prefix_2\"] = similarity_filtrees[\"img_2\"].apply(get_prefix)\n",
    "\n",
    "# Créer une nouvelle colonne booléenne : True si même préfixe (lien interne)\n",
    "similarity_filtrees[\"lien_interne\"] = similarity_filtrees[\"prefix_1\"] == similarity_filtrees[\"prefix_2\"]\n",
    "\n",
    "# (optionnel) supprimer les colonnes temporaires\n",
    "similarity_filtrees.drop(columns=[\"prefix_1\", \"prefix_2\"], inplace=True)\n",
    "\n",
    "similarity_filtrees.to_csv('fichiers_liens_internes_wit75.csv', index=False)"
   ]
  },
  {
   "cell_type": "markdown",
   "metadata": {},
   "source": [
    "Garder uniquement les lignes dont la valeur de la colonne lien_interne est False."
   ]
  },
  {
   "cell_type": "code",
   "execution_count": null,
   "metadata": {},
   "outputs": [],
   "source": [
    "df = pd.read_csv('fichiers_liens_internes_wit76.csv')\n",
    "\n",
    "# Garder seulement les lignes où lien_interne est False\n",
    "\n",
    "df_filtered = df[\n",
    "    (df['lien_interne'] == False) &\n",
    "]\n",
    "\n",
    "# Sauvegarder le fichier filtré\n",
    "df_filtered.to_csv('fichier_filtre_wit76.csv', index=False)\n"
   ]
  },
  {
   "cell_type": "markdown",
   "metadata": {},
   "source": [
    "Optionnel : classer les regions dans l'ordre des pages du witness."
   ]
  },
  {
   "cell_type": "code",
   "execution_count": null,
   "metadata": {},
   "outputs": [],
   "source": [
    "import csv\n",
    "\n",
    "def extraire_num_page(nom_fichier):\n",
    "    # Exemple : \"wit75_pdf75_0204_1099,845,404,398.jpg\"\n",
    "    # On veut extraire \"0204\"\n",
    "    try:\n",
    "        return int(nom_fichier.split('_')[2])\n",
    "    except IndexError:\n",
    "        return -1  # Si échec, valeur par défaut\n",
    "\n",
    "# Lire le CSV\n",
    "with open('fichier_filtre_wit76.csv', newline='', encoding='utf-8') as csvfile:\n",
    "    reader = csv.DictReader(csvfile)\n",
    "    lignes = list(reader)\n",
    "\n",
    "# Trier selon le numéro de page extrait de img_1\n",
    "lignes_triees = sorted(lignes, key=lambda row: extraire_num_page(row['img_1']))\n",
    "\n",
    "# Écrire un nouveau CSV trié\n",
    "with open('nouveaufichier_wit76.csv', 'w', newline='', encoding='utf-8') as csvfile:\n",
    "    writer = csv.DictWriter(csvfile, fieldnames=reader.fieldnames)\n",
    "    writer.writeheader()\n",
    "    writer.writerows(lignes_triees)\n",
    "\n"
   ]
  },
  {
   "cell_type": "markdown",
   "metadata": {},
   "source": [
    "Il ne reste plus qu'à insérer nouveaufichier_wit76.csv dans le fichier html bipartite_graph.html"
   ]
  },
  {
   "cell_type": "markdown",
   "metadata": {},
   "source": [
    "Supprimer les wit76 dans la visualisation wit75 - wit116"
   ]
  },
  {
   "cell_type": "code",
   "execution_count": 3,
   "metadata": {},
   "outputs": [],
   "source": [
    "# Charger le fichier CSV\n",
    "df = pd.read_csv(\"csv_files/wit75.csv\")\n",
    "\n",
    "# Garder uniquement les lignes qui **ne** contiennent pas \"wit76\" dans les colonnes 'img_1' ou 'img_2'\n",
    "df_filtered = df[~df['img_1'].str.contains(\"wit76\") & ~df['img_2'].str.contains(\"wit76\")]\n",
    "\n",
    "# Sauvegarder le nouveau fichier CSV\n",
    "df_filtered.to_csv(\"wit75_nvelleversion.csv\", index=False)"
   ]
  },
  {
   "cell_type": "markdown",
   "metadata": {},
   "source": [
    "Supprimer les wit75 dans la visualisation wit76 - wit116"
   ]
  },
  {
   "cell_type": "code",
   "execution_count": 4,
   "metadata": {},
   "outputs": [],
   "source": [
    "# Charger le fichier CSV\n",
    "df = pd.read_csv(\"csv_files/wit76.csv\")\n",
    "\n",
    "# Garder uniquement les lignes qui **ne** contiennent pas \"wit76\" dans les colonnes 'img_1' ou 'img_2'\n",
    "df_filtered = df[~df['img_1'].str.contains(\"wit75\") & ~df['img_2'].str.contains(\"wit75\")]\n",
    "\n",
    "# Sauvegarder le nouveau fichier CSV\n",
    "df_filtered.to_csv(\"wit76_nvelleversion.csv\", index=False)"
   ]
  }
 ],
 "metadata": {
  "kernelspec": {
   "display_name": "Python 3 (ipykernel)",
   "language": "python",
   "name": "python3"
  },
  "language_info": {
   "codemirror_mode": {
    "name": "ipython",
    "version": 3
   },
   "file_extension": ".py",
   "mimetype": "text/x-python",
   "name": "python",
   "nbconvert_exporter": "python",
   "pygments_lexer": "ipython3",
   "version": "3.10.12"
  }
 },
 "nbformat": 4,
 "nbformat_minor": 2
}
